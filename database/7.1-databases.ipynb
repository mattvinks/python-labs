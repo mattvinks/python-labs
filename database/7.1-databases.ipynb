{
 "cells": [
  {
   "cell_type": "markdown",
   "metadata": {},
   "source": [
    "# Databases\n",
    "\n",
    "This will be an effort to write to databases\n",
    "\n",
    "You need sqlite.  Windows users probably need to download it.  It's very small and easy to configure.\n",
    "\n",
    "Download here: https://www.sqlite.org/download.html\n",
    "\n"
   ]
  },
  {
   "cell_type": "code",
   "execution_count": 1,
   "metadata": {
    "collapsed": true
   },
   "outputs": [],
   "source": [
    "import sqlite3  # we use sqllite because most systems have it already installed."
   ]
  },
  {
   "cell_type": "code",
   "execution_count": 2,
   "metadata": {
    "collapsed": true
   },
   "outputs": [],
   "source": [
    "conn = sqlite3.connect('example.db')"
   ]
  },
  {
   "cell_type": "code",
   "execution_count": 3,
   "metadata": {},
   "outputs": [
    {
     "data": {
      "text/plain": [
       "<sqlite3.Cursor at 0x7fe6edf8d960>"
      ]
     },
     "execution_count": 3,
     "metadata": {},
     "output_type": "execute_result"
    }
   ],
   "source": [
    "c = conn.cursor()\n",
    "\n",
    "c.execute('''DROP TABLE IF EXISTS stocks''')\n",
    "# Create table\n",
    "c.execute('''CREATE TABLE stocks\n",
    "             (id integer primary key, date text, trans text, symbol text, qty real, price real)''')\n",
    "\n",
    "# Insert a row of data\n",
    "c.execute(\"INSERT INTO stocks VALUES (1, '2006-01-05','BUY','RHAT',100,35.14)\")\n"
   ]
  },
  {
   "cell_type": "code",
   "execution_count": 4,
   "metadata": {},
   "outputs": [
    {
     "data": {
      "text/plain": [
       "<sqlite3.Cursor at 0x7fe6edf8d960>"
      ]
     },
     "execution_count": 4,
     "metadata": {},
     "output_type": "execute_result"
    }
   ],
   "source": [
    "# TODO:  Insert some more rows into stocks table\n",
    "\n",
    "c.execute(\"INSERT INTO stocks VALUES (2, '2019-01-05','BUY','AAPL',100,35.14)\")\n",
    "c.execute(\"INSERT INTO stocks VALUES (3, '2019-02-05','BUY','DELL',100,35.14)\")\n"
   ]
  },
  {
   "cell_type": "code",
   "execution_count": 5,
   "metadata": {
    "collapsed": true
   },
   "outputs": [],
   "source": [
    "\n",
    "# Save (commit) the changes\n",
    "conn.commit()\n"
   ]
  },
  {
   "cell_type": "markdown",
   "metadata": {},
   "source": [
    "### Let's do some bulk inserts\n",
    "\n",
    "We'll do some bulk inserts"
   ]
  },
  {
   "cell_type": "code",
   "execution_count": 6,
   "metadata": {},
   "outputs": [
    {
     "name": "stdout",
     "output_type": "stream",
     "text": [
      "(1, '2006-01-05', 'BUY', 'RHAT', 100.0, 35.14)\n"
     ]
    },
    {
     "data": {
      "text/plain": [
       "<sqlite3.Cursor at 0x7fe6edf8d960>"
      ]
     },
     "execution_count": 6,
     "metadata": {},
     "output_type": "execute_result"
    }
   ],
   "source": [
    "\n",
    "t = ('RHAT',)\n",
    "c.execute('SELECT * FROM stocks WHERE symbol=?', t)\n",
    "print(c.fetchone())\n",
    "\n",
    "# Larger example that inserts many records at a time\n",
    "purchases = [(10,'2006-03-28', 'BUY', 'IBM', 1000, 45.00),\n",
    "             (11,'2006-04-05', 'BUY', 'MSFT', 1000, 72.00),\n",
    "             (12, '2006-04-06', 'SELL', 'IBM', 500, 53.00),\n",
    "            ]\n",
    "c.executemany('INSERT INTO stocks VALUES (?,?,?,?,?,?)', purchases)\n"
   ]
  },
  {
   "cell_type": "code",
   "execution_count": 7,
   "metadata": {},
   "outputs": [
    {
     "name": "stdout",
     "output_type": "stream",
     "text": [
      "(1, '2006-01-05', 'BUY', 'RHAT', 100.0, 35.14)\n",
      "(2, '2019-01-05', 'BUY', 'AAPL', 100.0, 35.14)\n",
      "(3, '2019-02-05', 'BUY', 'DELL', 100.0, 35.14)\n",
      "(10, '2006-03-28', 'BUY', 'IBM', 1000.0, 45.0)\n",
      "(12, '2006-04-06', 'SELL', 'IBM', 500.0, 53.0)\n",
      "(11, '2006-04-05', 'BUY', 'MSFT', 1000.0, 72.0)\n"
     ]
    }
   ],
   "source": [
    "for row in c.execute('SELECT * FROM stocks ORDER BY price'):\n",
    "        print(row)"
   ]
  },
  {
   "cell_type": "markdown",
   "metadata": {},
   "source": [
    "### Let's use pandas to read into a dataframe\n",
    "\n",
    "This should be easier.  Make a dataframe by saying pd.read_sql.query\n",
    "\n",
    "TODO: You can read the stocks table by saying \"select * from stocks\""
   ]
  },
  {
   "cell_type": "code",
   "execution_count": 8,
   "metadata": {},
   "outputs": [
    {
     "data": {
      "text/html": [
       "<div>\n",
       "<style scoped>\n",
       "    .dataframe tbody tr th:only-of-type {\n",
       "        vertical-align: middle;\n",
       "    }\n",
       "\n",
       "    .dataframe tbody tr th {\n",
       "        vertical-align: top;\n",
       "    }\n",
       "\n",
       "    .dataframe thead th {\n",
       "        text-align: right;\n",
       "    }\n",
       "</style>\n",
       "<table border=\"1\" class=\"dataframe\">\n",
       "  <thead>\n",
       "    <tr style=\"text-align: right;\">\n",
       "      <th></th>\n",
       "      <th>id</th>\n",
       "      <th>date</th>\n",
       "      <th>trans</th>\n",
       "      <th>symbol</th>\n",
       "      <th>qty</th>\n",
       "      <th>price</th>\n",
       "    </tr>\n",
       "  </thead>\n",
       "  <tbody>\n",
       "    <tr>\n",
       "      <th>0</th>\n",
       "      <td>1</td>\n",
       "      <td>2006-01-05</td>\n",
       "      <td>BUY</td>\n",
       "      <td>RHAT</td>\n",
       "      <td>100.0</td>\n",
       "      <td>35.14</td>\n",
       "    </tr>\n",
       "    <tr>\n",
       "      <th>1</th>\n",
       "      <td>2</td>\n",
       "      <td>2019-01-05</td>\n",
       "      <td>BUY</td>\n",
       "      <td>AAPL</td>\n",
       "      <td>100.0</td>\n",
       "      <td>35.14</td>\n",
       "    </tr>\n",
       "    <tr>\n",
       "      <th>2</th>\n",
       "      <td>3</td>\n",
       "      <td>2019-02-05</td>\n",
       "      <td>BUY</td>\n",
       "      <td>DELL</td>\n",
       "      <td>100.0</td>\n",
       "      <td>35.14</td>\n",
       "    </tr>\n",
       "    <tr>\n",
       "      <th>3</th>\n",
       "      <td>10</td>\n",
       "      <td>2006-03-28</td>\n",
       "      <td>BUY</td>\n",
       "      <td>IBM</td>\n",
       "      <td>1000.0</td>\n",
       "      <td>45.00</td>\n",
       "    </tr>\n",
       "    <tr>\n",
       "      <th>4</th>\n",
       "      <td>11</td>\n",
       "      <td>2006-04-05</td>\n",
       "      <td>BUY</td>\n",
       "      <td>MSFT</td>\n",
       "      <td>1000.0</td>\n",
       "      <td>72.00</td>\n",
       "    </tr>\n",
       "    <tr>\n",
       "      <th>5</th>\n",
       "      <td>12</td>\n",
       "      <td>2006-04-06</td>\n",
       "      <td>SELL</td>\n",
       "      <td>IBM</td>\n",
       "      <td>500.0</td>\n",
       "      <td>53.00</td>\n",
       "    </tr>\n",
       "  </tbody>\n",
       "</table>\n",
       "</div>"
      ],
      "text/plain": [
       "   id        date trans symbol     qty  price\n",
       "0   1  2006-01-05   BUY   RHAT   100.0  35.14\n",
       "1   2  2019-01-05   BUY   AAPL   100.0  35.14\n",
       "2   3  2019-02-05   BUY   DELL   100.0  35.14\n",
       "3  10  2006-03-28   BUY    IBM  1000.0  45.00\n",
       "4  11  2006-04-05   BUY   MSFT  1000.0  72.00\n",
       "5  12  2006-04-06  SELL    IBM   500.0  53.00"
      ]
     },
     "execution_count": 8,
     "metadata": {},
     "output_type": "execute_result"
    }
   ],
   "source": [
    "import pandas as pd\n",
    "df = pd.read_sql_query(\"select * from stocks;\", conn)\n",
    "df"
   ]
  },
  {
   "cell_type": "code",
   "execution_count": 9,
   "metadata": {},
   "outputs": [
    {
     "data": {
      "text/html": [
       "<div>\n",
       "<style scoped>\n",
       "    .dataframe tbody tr th:only-of-type {\n",
       "        vertical-align: middle;\n",
       "    }\n",
       "\n",
       "    .dataframe tbody tr th {\n",
       "        vertical-align: top;\n",
       "    }\n",
       "\n",
       "    .dataframe thead th {\n",
       "        text-align: right;\n",
       "    }\n",
       "</style>\n",
       "<table border=\"1\" class=\"dataframe\">\n",
       "  <thead>\n",
       "    <tr style=\"text-align: right;\">\n",
       "      <th></th>\n",
       "      <th>id</th>\n",
       "      <th>date</th>\n",
       "      <th>trans</th>\n",
       "      <th>symbol</th>\n",
       "      <th>qty</th>\n",
       "      <th>price</th>\n",
       "    </tr>\n",
       "  </thead>\n",
       "  <tbody>\n",
       "    <tr>\n",
       "      <th>0</th>\n",
       "      <td>1</td>\n",
       "      <td>2006-01-05</td>\n",
       "      <td>BUY</td>\n",
       "      <td>RHAT</td>\n",
       "      <td>100.0</td>\n",
       "      <td>35.14</td>\n",
       "    </tr>\n",
       "    <tr>\n",
       "      <th>1</th>\n",
       "      <td>2</td>\n",
       "      <td>2019-01-05</td>\n",
       "      <td>BUY</td>\n",
       "      <td>AAPL</td>\n",
       "      <td>100.0</td>\n",
       "      <td>35.14</td>\n",
       "    </tr>\n",
       "    <tr>\n",
       "      <th>2</th>\n",
       "      <td>3</td>\n",
       "      <td>2019-02-05</td>\n",
       "      <td>BUY</td>\n",
       "      <td>DELL</td>\n",
       "      <td>100.0</td>\n",
       "      <td>35.14</td>\n",
       "    </tr>\n",
       "    <tr>\n",
       "      <th>3</th>\n",
       "      <td>10</td>\n",
       "      <td>2006-03-28</td>\n",
       "      <td>BUY</td>\n",
       "      <td>IBM</td>\n",
       "      <td>1000.0</td>\n",
       "      <td>45.00</td>\n",
       "    </tr>\n",
       "    <tr>\n",
       "      <th>4</th>\n",
       "      <td>11</td>\n",
       "      <td>2006-04-05</td>\n",
       "      <td>BUY</td>\n",
       "      <td>MSFT</td>\n",
       "      <td>1000.0</td>\n",
       "      <td>72.00</td>\n",
       "    </tr>\n",
       "    <tr>\n",
       "      <th>5</th>\n",
       "      <td>12</td>\n",
       "      <td>2006-04-06</td>\n",
       "      <td>SELL</td>\n",
       "      <td>IBM</td>\n",
       "      <td>500.0</td>\n",
       "      <td>53.00</td>\n",
       "    </tr>\n",
       "    <tr>\n",
       "      <th>0</th>\n",
       "      <td>21</td>\n",
       "      <td>2018-01-01</td>\n",
       "      <td>BUY</td>\n",
       "      <td>AAPL</td>\n",
       "      <td>100.0</td>\n",
       "      <td>45.00</td>\n",
       "    </tr>\n",
       "    <tr>\n",
       "      <th>1</th>\n",
       "      <td>22</td>\n",
       "      <td>2018-04-13</td>\n",
       "      <td>BUY</td>\n",
       "      <td>DELL</td>\n",
       "      <td>200.0</td>\n",
       "      <td>55.00</td>\n",
       "    </tr>\n",
       "    <tr>\n",
       "      <th>2</th>\n",
       "      <td>23</td>\n",
       "      <td>2018-04-15</td>\n",
       "      <td>BUY</td>\n",
       "      <td>CSCO</td>\n",
       "      <td>300.0</td>\n",
       "      <td>66.00</td>\n",
       "    </tr>\n",
       "  </tbody>\n",
       "</table>\n",
       "</div>"
      ],
      "text/plain": [
       "   id        date trans symbol     qty  price\n",
       "0   1  2006-01-05   BUY   RHAT   100.0  35.14\n",
       "1   2  2019-01-05   BUY   AAPL   100.0  35.14\n",
       "2   3  2019-02-05   BUY   DELL   100.0  35.14\n",
       "3  10  2006-03-28   BUY    IBM  1000.0  45.00\n",
       "4  11  2006-04-05   BUY   MSFT  1000.0  72.00\n",
       "5  12  2006-04-06  SELL    IBM   500.0  53.00\n",
       "0  21  2018-01-01   BUY   AAPL   100.0  45.00\n",
       "1  22  2018-04-13   BUY   DELL   200.0  55.00\n",
       "2  23  2018-04-15   BUY   CSCO   300.0  66.00"
      ]
     },
     "execution_count": 9,
     "metadata": {},
     "output_type": "execute_result"
    }
   ],
   "source": [
    "df = df.append(pd.DataFrame({'id': [21,22,23],\n",
    "                        'date': ['2018-01-01', '2018-04-13', '2018-04-15'],\n",
    "                        'trans': ['BUY', 'BUY', 'BUY'],\n",
    "                        'symbol': ['AAPL', 'DELL', 'CSCO'],\n",
    "                        'qty': [100.0, 200.0, 300.0],\n",
    "                        'price': [45.0, 55.0, 66.0]\n",
    "                       }))\n",
    "df"
   ]
  },
  {
   "cell_type": "code",
   "execution_count": 12,
   "metadata": {
    "collapsed": true
   },
   "outputs": [],
   "source": [
    "df.to_sql(\"stocks\", conn, if_exists=\"replace\", index=False) # write to table"
   ]
  },
  {
   "cell_type": "markdown",
   "metadata": {},
   "source": [
    "### Do a read from the stocks table\n",
    "\n",
    "Use pandas to read from the stocks table."
   ]
  },
  {
   "cell_type": "code",
   "execution_count": 11,
   "metadata": {
    "collapsed": true
   },
   "outputs": [
    {
     "data": {
      "text/html": [
       "<div>\n",
       "<style scoped>\n",
       "    .dataframe tbody tr th:only-of-type {\n",
       "        vertical-align: middle;\n",
       "    }\n",
       "\n",
       "    .dataframe tbody tr th {\n",
       "        vertical-align: top;\n",
       "    }\n",
       "\n",
       "    .dataframe thead th {\n",
       "        text-align: right;\n",
       "    }\n",
       "</style>\n",
       "<table border=\"1\" class=\"dataframe\">\n",
       "  <thead>\n",
       "    <tr style=\"text-align: right;\">\n",
       "      <th></th>\n",
       "      <th>id</th>\n",
       "      <th>date</th>\n",
       "      <th>trans</th>\n",
       "      <th>symbol</th>\n",
       "      <th>qty</th>\n",
       "      <th>price</th>\n",
       "    </tr>\n",
       "  </thead>\n",
       "  <tbody>\n",
       "    <tr>\n",
       "      <th>0</th>\n",
       "      <td>1</td>\n",
       "      <td>2006-01-05</td>\n",
       "      <td>BUY</td>\n",
       "      <td>RHAT</td>\n",
       "      <td>100.0</td>\n",
       "      <td>35.14</td>\n",
       "    </tr>\n",
       "    <tr>\n",
       "      <th>1</th>\n",
       "      <td>2</td>\n",
       "      <td>2019-01-05</td>\n",
       "      <td>BUY</td>\n",
       "      <td>AAPL</td>\n",
       "      <td>100.0</td>\n",
       "      <td>35.14</td>\n",
       "    </tr>\n",
       "    <tr>\n",
       "      <th>2</th>\n",
       "      <td>3</td>\n",
       "      <td>2019-02-05</td>\n",
       "      <td>BUY</td>\n",
       "      <td>DELL</td>\n",
       "      <td>100.0</td>\n",
       "      <td>35.14</td>\n",
       "    </tr>\n",
       "    <tr>\n",
       "      <th>3</th>\n",
       "      <td>10</td>\n",
       "      <td>2006-03-28</td>\n",
       "      <td>BUY</td>\n",
       "      <td>IBM</td>\n",
       "      <td>1000.0</td>\n",
       "      <td>45.00</td>\n",
       "    </tr>\n",
       "    <tr>\n",
       "      <th>4</th>\n",
       "      <td>11</td>\n",
       "      <td>2006-04-05</td>\n",
       "      <td>BUY</td>\n",
       "      <td>MSFT</td>\n",
       "      <td>1000.0</td>\n",
       "      <td>72.00</td>\n",
       "    </tr>\n",
       "    <tr>\n",
       "      <th>5</th>\n",
       "      <td>12</td>\n",
       "      <td>2006-04-06</td>\n",
       "      <td>SELL</td>\n",
       "      <td>IBM</td>\n",
       "      <td>500.0</td>\n",
       "      <td>53.00</td>\n",
       "    </tr>\n",
       "    <tr>\n",
       "      <th>6</th>\n",
       "      <td>21</td>\n",
       "      <td>2018-01-01</td>\n",
       "      <td>BUY</td>\n",
       "      <td>AAPL</td>\n",
       "      <td>100.0</td>\n",
       "      <td>45.00</td>\n",
       "    </tr>\n",
       "    <tr>\n",
       "      <th>7</th>\n",
       "      <td>22</td>\n",
       "      <td>2018-04-13</td>\n",
       "      <td>BUY</td>\n",
       "      <td>DELL</td>\n",
       "      <td>200.0</td>\n",
       "      <td>55.00</td>\n",
       "    </tr>\n",
       "    <tr>\n",
       "      <th>8</th>\n",
       "      <td>23</td>\n",
       "      <td>2018-04-15</td>\n",
       "      <td>BUY</td>\n",
       "      <td>CSCO</td>\n",
       "      <td>300.0</td>\n",
       "      <td>66.00</td>\n",
       "    </tr>\n",
       "  </tbody>\n",
       "</table>\n",
       "</div>"
      ],
      "text/plain": [
       "   id        date trans symbol     qty  price\n",
       "0   1  2006-01-05   BUY   RHAT   100.0  35.14\n",
       "1   2  2019-01-05   BUY   AAPL   100.0  35.14\n",
       "2   3  2019-02-05   BUY   DELL   100.0  35.14\n",
       "3  10  2006-03-28   BUY    IBM  1000.0  45.00\n",
       "4  11  2006-04-05   BUY   MSFT  1000.0  72.00\n",
       "5  12  2006-04-06  SELL    IBM   500.0  53.00\n",
       "6  21  2018-01-01   BUY   AAPL   100.0  45.00\n",
       "7  22  2018-04-13   BUY   DELL   200.0  55.00\n",
       "8  23  2018-04-15   BUY   CSCO   300.0  66.00"
      ]
     },
     "execution_count": 11,
     "metadata": {},
     "output_type": "execute_result"
    }
   ],
   "source": [
    "# TODO: DO a read from the stocks table and make sure the new rows are there?\n",
    "\n",
    "df = pd.read_sql_query(\"select * from stocks;\", conn, )\n",
    " # TODO:How to read from table.\n",
    "df"
   ]
  },
  {
   "cell_type": "markdown",
   "metadata": {},
   "source": [
    "### ORM in Python\n",
    "\n",
    "Python supports ORMs (Object-Relational Mapping) like other languages. Examples of ORMs are (N)Hibernate (Java/.NET), Spring Framework (Java), Entity Framework (.NET) and many others.\n",
    "\n",
    "In Python, there are a couple of ORMs that are popular. One is the very popular django framework, which is an all-inclusive MVC framework similar to Spring in Java, both of which which also have a ORM (among a huge number of other features).\n",
    "\n",
    "In keeping with the philosophy of \"do one thing and do it well\" SQLAlchemy is designed to provide a lightweight database layer + ORM for python.  We will look at SQLAlchemy."
   ]
  },
  {
   "cell_type": "code",
   "execution_count": 13,
   "metadata": {
    "scrolled": true
   },
   "outputs": [],
   "source": [
    "from sqlalchemy import Column, ForeignKey, Float, String\n",
    "from sqlalchemy.ext.declarative import declarative_base\n",
    "from sqlalchemy.orm import relationship, create_session\n",
    "from sqlalchemy import create_engine\n",
    "from sqlalchemy.ext.automap import automap_base\n",
    "\n",
    "\n",
    " \n",
    "Base = automap_base()\n",
    "\n",
    "engine = create_engine('sqlite:///example.db')\n",
    "\n",
    "\n"
   ]
  },
  {
   "cell_type": "code",
   "execution_count": 16,
   "metadata": {},
   "outputs": [],
   "source": [
    "from sqlalchemy import *\n",
    "meta = MetaData()\n",
    "Stocks = Table('stocks', meta, autoload=True, autoload_with=engine)\n"
   ]
  },
  {
   "cell_type": "markdown",
   "metadata": {},
   "source": [
    "### Query in SQLAlchemy ORM\n",
    "\n",
    "Let's do a query of stocks in sqlalchemy ORM"
   ]
  },
  {
   "cell_type": "code",
   "execution_count": 18,
   "metadata": {},
   "outputs": [
    {
     "name": "stdout",
     "output_type": "stream",
     "text": [
      "(1, '2006-01-05', 'RHAT', 'BUY', 35.14, 100.0)\n",
      "(2, '2019-01-05', 'AAPL', 'BUY', 35.14, 100.0)\n",
      "(3, '2019-02-05', 'DELL', 'BUY', 35.14, 100.0)\n",
      "(10, '2006-03-28', 'IBM', 'BUY', 45.0, 1000.0)\n",
      "(11, '2006-04-05', 'MSFT', 'BUY', 72.0, 1000.0)\n",
      "(12, '2006-04-06', 'IBM', 'SELL', 53.0, 500.0)\n",
      "(21, '2018-01-01', 'AAPL', 'BUY', 45.0, 100.0)\n",
      "(22, '2018-04-13', 'DELL', 'BUY', 55.0, 200.0)\n",
      "(23, '2018-04-15', 'CSCO', 'BUY', 66.0, 300.0)\n"
     ]
    }
   ],
   "source": [
    "session = create_session(bind=engine)\n",
    "\n",
    "stocks = session.query(Stocks).all()    \n",
    "\n",
    "for s in stocks:\n",
    "    print((s.id,s.date,s.symbol,s.trans,s.price,s.qty))"
   ]
  },
  {
   "cell_type": "markdown",
   "metadata": {},
   "source": [
    "### Close the connection\n",
    "\n",
    "Run this cell to close the connection"
   ]
  },
  {
   "cell_type": "code",
   "execution_count": 19,
   "metadata": {
    "collapsed": true
   },
   "outputs": [],
   "source": [
    "conn.close()"
   ]
  },
  {
   "cell_type": "code",
   "execution_count": null,
   "metadata": {
    "collapsed": true
   },
   "outputs": [],
   "source": []
  },
  {
   "cell_type": "code",
   "execution_count": null,
   "metadata": {},
   "outputs": [],
   "source": []
  },
  {
   "cell_type": "code",
   "execution_count": null,
   "metadata": {},
   "outputs": [],
   "source": []
  }
 ],
 "metadata": {
  "kernelspec": {
   "display_name": "Python 3",
   "language": "python",
   "name": "python3"
  },
  "language_info": {
   "codemirror_mode": {
    "name": "ipython",
    "version": 3
   },
   "file_extension": ".py",
   "mimetype": "text/x-python",
   "name": "python",
   "nbconvert_exporter": "python",
   "pygments_lexer": "ipython3",
   "version": "3.6.8"
  }
 },
 "nbformat": 4,
 "nbformat_minor": 2
}

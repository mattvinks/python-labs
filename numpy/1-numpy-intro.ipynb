{
 "cells": [
  {
   "cell_type": "markdown",
   "metadata": {},
   "source": [
    "# NumPy and SciPy\n",
    "\n",
    "NumPy and SciPy are the twin pillars of doing data science in Python.  Early on in Python's history, it became clear that Python's list data structures weren't ideal for doing heavy-duty number crunching on vectors and matrices. \n",
    "\n",
    "So, numpy was born to try to solve the problem, and introduce an array-type data structure into Python.\n",
    "\n",
    "Let's first create an array:"
   ]
  },
  {
   "cell_type": "code",
   "execution_count": 1,
   "metadata": {},
   "outputs": [
    {
     "data": {
      "text/plain": [
       "array([1, 2, 3])"
      ]
     },
     "execution_count": 1,
     "metadata": {},
     "output_type": "execute_result"
    }
   ],
   "source": [
    "import numpy as np\n",
    "a = np.array([1,2,3])\n",
    "a"
   ]
  },
  {
   "cell_type": "markdown",
   "metadata": {},
   "source": [
    "Notice that we have to pass in a list of numbers rather than \n",
    "\n",
    "np.array(1,2,3)  ## ERROR: won't work\n",
    "\n",
    "np.array([1,2,3]) ## Correct"
   ]
  },
  {
   "cell_type": "markdown",
   "metadata": {},
   "source": [
    "Let's do a sequence of numbers with arange"
   ]
  },
  {
   "cell_type": "code",
   "execution_count": 2,
   "metadata": {},
   "outputs": [
    {
     "data": {
      "text/plain": [
       "array([0, 1, 2, 3, 4, 5, 6, 7, 8, 9])"
      ]
     },
     "execution_count": 2,
     "metadata": {},
     "output_type": "execute_result"
    }
   ],
   "source": [
    "np.arange(10)"
   ]
  },
  {
   "cell_type": "code",
   "execution_count": 3,
   "metadata": {},
   "outputs": [
    {
     "data": {
      "text/plain": [
       "array([ 0.        ,  3.14159265,  6.28318531,  9.42477796, 12.56637061,\n",
       "       15.70796327, 18.84955592, 21.99114858, 25.13274123, 28.27433388])"
      ]
     },
     "execution_count": 3,
     "metadata": {},
     "output_type": "execute_result"
    }
   ],
   "source": [
    "# Try to multiply sequence by a scalar\n",
    "np.arange(10) * np.pi"
   ]
  },
  {
   "cell_type": "markdown",
   "metadata": {},
   "source": [
    "We can make multi-dimensional arrays from single dimensions with shape."
   ]
  },
  {
   "cell_type": "code",
   "execution_count": 4,
   "metadata": {},
   "outputs": [
    {
     "data": {
      "text/plain": [
       "array([[1, 2, 3],\n",
       "       [4, 5, 6]])"
      ]
     },
     "execution_count": 4,
     "metadata": {},
     "output_type": "execute_result"
    }
   ],
   "source": [
    "a = np.array([1,2,3,4,5,6])\n",
    "a.shape = (2,3)\n",
    "a"
   ]
  },
  {
   "cell_type": "markdown",
   "metadata": {},
   "source": [
    "We can access elements of the 2-D array using array subscription operators.\n",
    "\n",
    "Remember we do **this**:\n",
    "\n",
    "```python\n",
    "a[1,2]\n",
    "```\n",
    "\n",
    "not **this**\n",
    "\n",
    "```python\n",
    "a[1][2] # BAD!\n",
    "```"
   ]
  },
  {
   "cell_type": "code",
   "execution_count": 14,
   "metadata": {
    "collapsed": true
   },
   "outputs": [
    {
     "name": "stdout",
     "output_type": "stream",
     "text": [
      "[1 2 3]\n"
     ]
    }
   ],
   "source": [
    "## TODO: Slice the first (zeroeth) row of 2-D array a.\n",
    "b = a[0,:]\n",
    "print(b)"
   ]
  },
  {
   "cell_type": "code",
   "execution_count": 16,
   "metadata": {
    "collapsed": true
   },
   "outputs": [
    {
     "name": "stdout",
     "output_type": "stream",
     "text": [
      "[1 4]\n"
     ]
    }
   ],
   "source": [
    "## TODO: Slice the first (zeroeth) column of 2-D array a\n",
    "c = a[:, 0]\n",
    "print(c)"
   ]
  },
  {
   "cell_type": "code",
   "execution_count": 19,
   "metadata": {
    "collapsed": true
   },
   "outputs": [
    {
     "name": "stdout",
     "output_type": "stream",
     "text": [
      "2\n"
     ]
    }
   ],
   "source": [
    "## Access the element at column number 1 (counting from zero), \n",
    "# and row number 0:\n",
    "\n",
    "d = a[0,1]\n",
    "print(d)"
   ]
  },
  {
   "cell_type": "markdown",
   "metadata": {},
   "source": [
    "### Matrices\n",
    "\n",
    "We can make matrices"
   ]
  },
  {
   "cell_type": "code",
   "execution_count": 20,
   "metadata": {},
   "outputs": [
    {
     "data": {
      "text/plain": [
       "matrix([[1, 2],\n",
       "        [3, 4]])"
      ]
     },
     "execution_count": 20,
     "metadata": {},
     "output_type": "execute_result"
    }
   ],
   "source": [
    "np.matrix('1 2; 3 4')"
   ]
  },
  {
   "cell_type": "markdown",
   "metadata": {},
   "source": [
    "Matrix multiplication requires the use of matrices."
   ]
  },
  {
   "cell_type": "code",
   "execution_count": 23,
   "metadata": {},
   "outputs": [
    {
     "data": {
      "text/plain": [
       "matrix([[1, 2],\n",
       "        [3, 4]])"
      ]
     },
     "execution_count": 23,
     "metadata": {},
     "output_type": "execute_result"
    }
   ],
   "source": [
    "## Matrix Multiply\n",
    "\n",
    "a1 = np.matrix('1 2; 3 4')\n",
    "a2 = np.matrix('3 4; 5 7')\n",
    "a1 * a2\n",
    "a1"
   ]
  },
  {
   "cell_type": "code",
   "execution_count": 26,
   "metadata": {},
   "outputs": [
    {
     "data": {
      "text/plain": [
       "matrix([[1, 2],\n",
       "        [3, 4]])"
      ]
     },
     "execution_count": 26,
     "metadata": {},
     "output_type": "execute_result"
    }
   ],
   "source": [
    "# Converting an array to a matrix\n",
    "ab = np.array([1,2,3,4])\n",
    "mat_a = np.mat(ab)\n",
    "mat_a.reshape(2,2)"
   ]
  },
  {
   "cell_type": "markdown",
   "metadata": {},
   "source": [
    "### Sparse Matrices\n",
    "\n",
    "Sometimes we may have sparse data and want to store a sparse matrix"
   ]
  },
  {
   "cell_type": "code",
   "execution_count": 37,
   "metadata": {},
   "outputs": [
    {
     "name": "stdout",
     "output_type": "stream",
     "text": [
      "[1. 1. 1. ... 1. 0. 0.]\n"
     ]
    },
    {
     "data": {
      "text/plain": [
       "x.T\n",
       "x.__abs__\n",
       "x.__add__\n",
       "x.__and__\n",
       "x.__array__\n",
       "x.__array_finalize__\n",
       "x.__array_function__\n",
       "x.__array_interface__\n",
       "x.__array_prepare__\n",
       "x.__array_priority__\n",
       "x.__array_struct__\n",
       "x.__array_ufunc__\n",
       "x.__array_wrap__\n",
       "x.__bool__\n",
       "x.__class__\n",
       "x.__complex__\n",
       "x.__contains__\n",
       "x.__copy__\n",
       "x.__deepcopy__\n",
       "x.__delattr__\n",
       "x.__delitem__\n",
       "x.__dir__\n",
       "x.__divmod__\n",
       "x.__doc__\n",
       "x.__eq__\n",
       "x.__float__\n",
       "x.__floordiv__\n",
       "x.__format__\n",
       "x.__ge__\n",
       "x.__getattribute__\n",
       "x.__getitem__\n",
       "x.__gt__\n",
       "x.__hash__\n",
       "x.__iadd__\n",
       "x.__iand__\n",
       "x.__ifloordiv__\n",
       "x.__ilshift__\n",
       "x.__imatmul__\n",
       "x.__imod__\n",
       "x.__imul__\n",
       "x.__index__\n",
       "x.__init__\n",
       "x.__init_subclass__\n",
       "x.__int__\n",
       "x.__invert__\n",
       "x.__ior__\n",
       "x.__ipow__\n",
       "x.__irshift__\n",
       "x.__isub__\n",
       "x.__iter__\n",
       "x.__itruediv__\n",
       "x.__ixor__\n",
       "x.__le__\n",
       "x.__len__\n",
       "x.__lshift__\n",
       "x.__lt__\n",
       "x.__matmul__\n",
       "x.__mod__\n",
       "x.__mul__\n",
       "x.__ne__\n",
       "x.__neg__\n",
       "x.__new__\n",
       "x.__or__\n",
       "x.__pos__\n",
       "x.__pow__\n",
       "x.__radd__\n",
       "x.__rand__\n",
       "x.__rdivmod__\n",
       "x.__reduce__\n",
       "x.__reduce_ex__\n",
       "x.__repr__\n",
       "x.__rfloordiv__\n",
       "x.__rlshift__\n",
       "x.__rmatmul__\n",
       "x.__rmod__\n",
       "x.__rmul__\n",
       "x.__ror__\n",
       "x.__rpow__\n",
       "x.__rrshift__\n",
       "x.__rshift__\n",
       "x.__rsub__\n",
       "x.__rtruediv__\n",
       "x.__rxor__\n",
       "x.__setattr__\n",
       "x.__setitem__\n",
       "x.__setstate__\n",
       "x.__sizeof__\n",
       "x.__str__\n",
       "x.__sub__\n",
       "x.__subclasshook__\n",
       "x.__truediv__\n",
       "x.__xor__\n",
       "x.all\n",
       "x.any\n",
       "x.argmax\n",
       "x.argmin\n",
       "x.argpartition\n",
       "x.argsort\n",
       "x.astype\n",
       "x.base\n",
       "x.byteswap\n",
       "x.choose\n",
       "x.clip\n",
       "x.compress\n",
       "x.conj\n",
       "x.conjugate\n",
       "x.copy\n",
       "x.ctypes\n",
       "x.cumprod\n",
       "x.cumsum\n",
       "x.data\n",
       "x.diagonal\n",
       "x.dot\n",
       "x.dtype\n",
       "x.dump\n",
       "x.dumps\n",
       "x.fill\n",
       "x.flags\n",
       "x.flat\n",
       "x.flatten\n",
       "x.getfield\n",
       "x.imag\n",
       "x.item\n",
       "x.itemset\n",
       "x.itemsize\n",
       "x.max\n",
       "x.mean\n",
       "x.min\n",
       "x.nbytes\n",
       "x.ndim\n",
       "x.newbyteorder\n",
       "x.nonzero\n",
       "x.partition\n",
       "x.prod\n",
       "x.ptp\n",
       "x.put\n",
       "x.ravel\n",
       "x.real\n",
       "x.repeat\n",
       "x.reshape\n",
       "x.resize\n",
       "x.round\n",
       "x.searchsorted\n",
       "x.setfield\n",
       "x.setflags\n",
       "x.shape\n",
       "x.size\n",
       "x.sort\n",
       "x.squeeze\n",
       "x.std\n",
       "x.strides\n",
       "x.sum\n",
       "x.swapaxes\n",
       "x.take\n",
       "x.tobytes\n",
       "x.tofile\n",
       "x.tolist\n",
       "x.tostring\n",
       "x.trace\n",
       "x.transpose\n",
       "x.var\n",
       "x.view"
      ]
     },
     "metadata": {},
     "output_type": "display_data"
    }
   ],
   "source": [
    "import numpy, scipy.sparse\n",
    "n = 100000\n",
    "x = (numpy.random.rand(n) * 2).astype(int).astype(float) # 50% sparse vector\n",
    "x_csr = scipy.sparse.csr_matrix(x)\n",
    "x_dok = scipy.sparse.dok_matrix(x.reshape(x_csr.shape))\n",
    "\n",
    "x_dok\n",
    "#len(x)\n",
    "print(x)\n",
    "type(x)\n",
    "x.*?"
   ]
  },
  {
   "cell_type": "markdown",
   "metadata": {},
   "source": [
    "\n",
    "\n",
    "### Loading from CSV file\n",
    "\n",
    "We can load from a CSV file"
   ]
  },
  {
   "cell_type": "code",
   "execution_count": 27,
   "metadata": {},
   "outputs": [
    {
     "data": {
      "text/plain": [
       "[[2.0, 3.0, 4.0, 5.0], [3.0, 4.0, 5.0, 6.0], [7.0, 9.0, 9.0, 10.0]]"
      ]
     },
     "execution_count": 27,
     "metadata": {},
     "output_type": "execute_result"
    }
   ],
   "source": [
    "import csv\n",
    "with open('../data/array/array.csv', 'r') as csvfile:\n",
    "    csvreader = csv.reader(csvfile)\n",
    "    data = []\n",
    "    for row in csvreader:\n",
    "        row = [float(x) for x in row]\n",
    "        data.append(row)\n",
    "\n",
    "data\n",
    "\n"
   ]
  },
  {
   "cell_type": "markdown",
   "metadata": {},
   "source": [
    "### Solving a matrix "
   ]
  },
  {
   "cell_type": "code",
   "execution_count": 28,
   "metadata": {},
   "outputs": [
    {
     "data": {
      "text/plain": [
       "array([ 2., -2.,  9.])"
      ]
     },
     "execution_count": 28,
     "metadata": {},
     "output_type": "execute_result"
    }
   ],
   "source": [
    "import numpy as np\n",
    "import scipy as sp\n",
    "a = np.array([[3,2,0],[1,-1,0],[0,5,1]])\n",
    "b = np.array([2,4,-1])\n",
    "x = np.linalg.solve(a,b)\n",
    "x\n",
    "\n"
   ]
  },
  {
   "cell_type": "code",
   "execution_count": 29,
   "metadata": {},
   "outputs": [
    {
     "data": {
      "text/plain": [
       "array([ True,  True,  True])"
      ]
     },
     "execution_count": 29,
     "metadata": {},
     "output_type": "execute_result"
    }
   ],
   "source": [
    "#Checking the answer\n",
    "\n",
    "np.dot(a, x) == b\n"
   ]
  }
 ],
 "metadata": {
  "kernelspec": {
   "display_name": "Python 3",
   "language": "python",
   "name": "python3"
  },
  "language_info": {
   "codemirror_mode": {
    "name": "ipython",
    "version": 3
   },
   "file_extension": ".py",
   "mimetype": "text/x-python",
   "name": "python",
   "nbconvert_exporter": "python",
   "pygments_lexer": "ipython3",
   "version": "3.6.8"
  }
 },
 "nbformat": 4,
 "nbformat_minor": 2
}
